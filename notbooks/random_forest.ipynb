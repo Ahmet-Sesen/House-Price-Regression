{
 "cells": [
  {
   "cell_type": "code",
   "execution_count": 1,
   "metadata": {},
   "outputs": [],
   "source": [
    "import pandas as pd\n",
    "import numpy as np"
   ]
  },
  {
   "cell_type": "code",
   "execution_count": 2,
   "metadata": {},
   "outputs": [],
   "source": [
    "import joblib\n",
    "# Load the DataFrame from the Joblib file\n",
    "data = joblib.load('my_dataframe.joblib')"
   ]
  },
  {
   "cell_type": "code",
   "execution_count": 3,
   "metadata": {},
   "outputs": [],
   "source": [
    "X = data.drop(columns=['SalePrice'])\n",
    "y = data['SalePrice']"
   ]
  },
  {
   "cell_type": "code",
   "execution_count": 4,
   "metadata": {},
   "outputs": [],
   "source": [
    "categorical_columns = X.select_dtypes(include=['object', 'category']).columns.tolist()\n",
    "numerical_columns = X.select_dtypes(include=[np.number]).columns.tolist()"
   ]
  },
  {
   "cell_type": "code",
   "execution_count": 5,
   "metadata": {},
   "outputs": [],
   "source": [
    "from sklearn.preprocessing import LabelEncoder\n",
    "label_encoders = {}\n",
    "# Apply Label Encoding to each categorical column\n",
    "for col in categorical_columns:\n",
    "    le = LabelEncoder()\n",
    "    X[col] = le.fit_transform(X[col])\n",
    "    label_encoders[col] = le"
   ]
  },
  {
   "cell_type": "code",
   "execution_count": 6,
   "metadata": {},
   "outputs": [],
   "source": [
    "from sklearn.model_selection import train_test_split\n",
    "X_train, X_test, y_train, y_test = train_test_split(X, y, test_size = 0.25, random_state = 42)"
   ]
  },
  {
   "cell_type": "code",
   "execution_count": 7,
   "metadata": {},
   "outputs": [
    {
     "data": {
      "text/plain": [
       "RandomForestRegressor(random_state=42)"
      ]
     },
     "execution_count": 7,
     "metadata": {},
     "output_type": "execute_result"
    }
   ],
   "source": [
    "from sklearn.ensemble import RandomForestRegressor\n",
    "model = RandomForestRegressor(random_state = 42)\n",
    "model.fit(X_train, y_train)"
   ]
  },
  {
   "cell_type": "code",
   "execution_count": 8,
   "metadata": {},
   "outputs": [],
   "source": [
    "y_pred = model.predict(X_test)"
   ]
  },
  {
   "cell_type": "code",
   "execution_count": 9,
   "metadata": {},
   "outputs": [
    {
     "data": {
      "text/plain": [
       "0.8461682723813957"
      ]
     },
     "execution_count": 9,
     "metadata": {},
     "output_type": "execute_result"
    }
   ],
   "source": [
    "from sklearn.metrics import r2_score\n",
    "r2_score(y_test, y_pred)"
   ]
  },
  {
   "cell_type": "code",
   "execution_count": 10,
   "metadata": {},
   "outputs": [
    {
     "name": "stdout",
     "output_type": "stream",
     "text": [
      "Root Mean Squared Error (RMSE): 27718.53697423017\n",
      "Relative RMSE (%): 15.612136362946039\n"
     ]
    }
   ],
   "source": [
    "from sklearn.metrics import mean_squared_error\n",
    "# Calculate RMSE\n",
    "rmse = mean_squared_error(y_test, y_pred, squared=False)\n",
    "print(\"Root Mean Squared Error (RMSE):\", rmse)\n",
    "\n",
    "#Calculate relative rmse\n",
    "mean_saleprice = data['SalePrice'].mean()\n",
    "relative_rmse = (rmse / mean_saleprice) * 100\n",
    "print(\"Relative RMSE (%):\", relative_rmse)"
   ]
  },
  {
   "cell_type": "code",
   "execution_count": 11,
   "metadata": {},
   "outputs": [
    {
     "name": "stdout",
     "output_type": "stream",
     "text": [
      "Mean RMSE: 27940.834129181287\n",
      "Relative RMSE (%): 15.737342592243722\n"
     ]
    }
   ],
   "source": [
    "from sklearn.model_selection import cross_val_score\n",
    "\n",
    "# Perform 5-fold cross-validation (cv=5), scoring based on negative mean squared error\n",
    "scores = cross_val_score(model, X, y, cv=5, scoring='neg_mean_squared_error')\n",
    "\n",
    "# Calculate the average score\n",
    "mean_mse = np.mean(scores)\n",
    "mean_rmse = np.sqrt(-mean_mse)  # Convert to RMSE (Root Mean Squared Error)\n",
    "\n",
    "relative_rmse = (mean_rmse / mean_saleprice) * 100\n",
    "\n",
    "print(f\"Mean RMSE: {mean_rmse}\")\n",
    "print(\"Relative RMSE (%):\", relative_rmse)"
   ]
  },
  {
   "cell_type": "code",
   "execution_count": 12,
   "metadata": {},
   "outputs": [
    {
     "name": "stdout",
     "output_type": "stream",
     "text": [
      "[('OverallQual_GrLivArea', 0.6676117226540305), ('TotalLivingSF', 0.051238913589094354), ('BsmtQual', 0.03214474497204485), ('OverallQual', 0.025105878672040595), ('GarageCars', 0.024594697637698636), ('2ndFlrSF', 0.023885766384633713), ('HouseAge', 0.01659437351472556), ('YearBuilt', 0.013982765782331522), ('LotArea', 0.013466756945616283), ('YearRemodAdd', 0.011014494674343001), ('GarageType', 0.007537688921578132), ('GrLivArea', 0.007295220262441883), ('BsmtUnfSF', 0.0072679680783207315), ('Neighborhood', 0.00716864236741735), ('LotFrontage', 0.006765703317509314), ('BsmtFinType1', 0.005748174922177605), ('BsmtExposure', 0.0052566814521663036), ('MasVnrArea', 0.00517336153688833), ('SaleCondition', 0.004739254848185802), ('OpenPorchSF', 0.004400134998356248), ('OverallCond', 0.0040757370971265805), ('KitchenQual', 0.0037997295352702413), ('ExterQual', 0.003593990059765223), ('MoSold', 0.0031885479240127816), ('WoodDeckSF', 0.003002299549793977), ('CentralAir', 0.0029677589441560715), ('LandContour', 0.0028405409530068834), ('MSSubClass', 0.002661410673072682), ('BedroomAbvGr', 0.0023034739174147573), ('Exterior1st', 0.002259423559669357), ('MSZoning', 0.0022515877094090794), ('FireplaceQu', 0.0020651716635881117), ('BsmtFullBath', 0.001978270682666059), ('Exterior2nd', 0.0019251997860198129), ('YrSold', 0.0016646010474933924), ('GarageQual', 0.0014974884530263787), ('GarageFinish', 0.001470716012498594), ('MasVnrType', 0.0012288177449234195), ('BsmtFinType2', 0.0010430411168063786), ('LotShape', 0.0010248263025986293), ('Condition1', 0.0010007455884911822), ('FullBath', 0.0009449219846695499), ('HeatingQC', 0.0009267364332960494), ('LotConfig', 0.0009225154748898469), ('HalfBath', 0.000878043080031111), ('BsmtFinSF2', 0.0008753351970453111), ('EnclosedPorch', 0.000855603269573871), ('RoofStyle', 0.0008511318063942201), ('LandSlope', 0.0006891952798464175), ('Foundation', 0.0006836477628799916), ('ScreenPorch', 0.000585236982718881), ('BsmtCond', 0.0005234391087261075), ('HouseStyle', 0.0005184162845974279), ('KitchenAbvGr', 0.0004427899792874399), ('ExterCond', 0.0004344135761088174), ('BsmtHalfBath', 0.0003726425388439672), ('BldgType', 0.0003473398668948015), ('PavedDrive', 0.00031226752178586367)]\n"
     ]
    }
   ],
   "source": [
    "importances = model.feature_importances_\n",
    "\n",
    "indices = np.argsort(importances)[::-1]\n",
    "sorted_features = [(X.columns[i], importances[i]) for i in indices]\n",
    "print(sorted_features)"
   ]
  },
  {
   "cell_type": "code",
   "execution_count": 13,
   "metadata": {},
   "outputs": [
    {
     "name": "stdout",
     "output_type": "stream",
     "text": [
      "\n",
      "Top Numerical Features:\n",
      "['OverallQual_GrLivArea', 'TotalLivingSF', 'BsmtQual', 'OverallQual', 'GarageCars', '2ndFlrSF', 'HouseAge', 'YearBuilt', 'LotArea', 'YearRemodAdd']\n",
      "\n",
      "Top Categorical Features:\n",
      "['GarageType', 'Neighborhood', 'SaleCondition', 'LandContour', 'Exterior1st', 'MSZoning', 'Exterior2nd', 'GarageFinish', 'MasVnrType', 'LotShape']\n"
     ]
    }
   ],
   "source": [
    "feature_names = [feature[0] for feature in sorted_features]\n",
    "# Separate the top features into categorical and numerical\n",
    "top_numerical_features = [feature for feature in feature_names if feature in numerical_columns]\n",
    "top_categorical_features = [feature for feature in feature_names if feature in categorical_columns]\n",
    "print(\"\\nTop Numerical Features:\")\n",
    "print(top_numerical_features[0:10])\n",
    "\n",
    "print(\"\\nTop Categorical Features:\")\n",
    "print(top_categorical_features[0:10])"
   ]
  },
  {
   "cell_type": "code",
   "execution_count": 21,
   "metadata": {},
   "outputs": [
    {
     "name": "stdout",
     "output_type": "stream",
     "text": [
      "Top 20 Features (all):\n",
      "['OverallQual_GrLivArea', 'TotalLivingSF', 'tot_qual', 'YearBuilt', 'BsmtQual', 'GarageCars', 'YearRemodAdd', 'LotArea', 'OverallQual', 'BsmtUnfSF', 'GrLivArea', 'FireplaceQu', '2ndFlrSF', 'OverallCond', 'BsmtFinType1', 'MSZoning_RM', 'LotFrontage', 'Neighborhood_L2', 'WoodDeckSF', 'BsmtExposure', 'MoSold', 'OpenPorchSF', 'LandContour_Bnk', 'BsmtFullBath', 'MSSubClass', 'Neighborhood_L5', 'GarageType_Attchd', 'YrSold', 'MasVnrArea', 'MSZoning_RL', 'CentralAir', 'GarageFinish_Unf', 'LotShape_Reg', 'LandContour_HLS', 'HeatingQC', 'BedroomAbvGr', 'SaleCondition_Abnorml', 'LandContour_Lvl', 'GarageQual', 'HalfBath']\n"
     ]
    }
   ],
   "source": [
    "# Get the top 20 most important features\n",
    "top_features = sorted_features[0:20]\n",
    "\n",
    "# Extract the feature names\n",
    "top_feature_names = [feature[0] for feature in top_features]\n",
    "\n",
    "# Print the results\n",
    "print(\"Top 20 Features (all):\")\n",
    "print(top_feature_names)\n"
   ]
  },
  {
   "cell_type": "code",
   "execution_count": 22,
   "metadata": {},
   "outputs": [],
   "source": [
    "X_imprt=X[top_feature_names]"
   ]
  },
  {
   "cell_type": "code",
   "execution_count": 23,
   "metadata": {},
   "outputs": [],
   "source": [
    "X_train, X_test, y_train, y_test = train_test_split(X_imprt, y, test_size = 0.25, random_state = 0)"
   ]
  },
  {
   "cell_type": "markdown",
   "metadata": {},
   "source": [
    "### Hyper parameter tuning for random forest"
   ]
  },
  {
   "cell_type": "code",
   "execution_count": 212,
   "metadata": {},
   "outputs": [
    {
     "name": "stdout",
     "output_type": "stream",
     "text": [
      "Best parameters found:  {'bootstrap': False, 'max_depth': 20, 'max_features': 'log2', 'min_samples_leaf': 1, 'min_samples_split': 2, 'n_estimators': 200}\n",
      "Best RMSE from Grid Search:  21037.733309407435\n"
     ]
    }
   ],
   "source": [
    "from sklearn.model_selection import GridSearchCV\n",
    "\n",
    "param_grid = {\n",
    "    'n_estimators': [50,100,150,200],\n",
    "    'max_features': ['auto', 'sqrt', 'log2'],\n",
    "    'max_depth': [None, 10, 20, 30],\n",
    "    'min_samples_split': [2, 5, 10],\n",
    "    'min_samples_leaf': [1, 2, 4],\n",
    "    'bootstrap': [True, False]\n",
    "}\n",
    "\n",
    "rf= RandomForestRegressor(random_state=0)\n",
    "grid_search = GridSearchCV(estimator=rf, param_grid=param_grid, cv=5, n_jobs=-1, scoring='neg_root_mean_squared_error')\n",
    "grid_search.fit(X_train, y_train)\n",
    "\n",
    "print(\"Best parameters found: \", grid_search.best_params_)\n",
    "print(\"Best RMSE from Grid Search: \", -grid_search.best_score_)"
   ]
  },
  {
   "cell_type": "code",
   "execution_count": 24,
   "metadata": {},
   "outputs": [
    {
     "data": {
      "text/plain": [
       "RandomForestRegressor(bootstrap=False, max_depth=20, max_features='log2',\n",
       "                      n_estimators=200, random_state=42)"
      ]
     },
     "execution_count": 24,
     "metadata": {},
     "output_type": "execute_result"
    }
   ],
   "source": [
    "#  new model with the best parameters\n",
    "best_rf_model = RandomForestRegressor(\n",
    "    bootstrap=False,\n",
    "    max_depth=20,\n",
    "    max_features='log2',\n",
    "    min_samples_leaf=1,\n",
    "    min_samples_split=2,\n",
    "    n_estimators=200,\n",
    "    random_state=42\n",
    ")\n",
    "\n",
    "# Fit the model to the training data\n",
    "best_rf_model.fit(X_train, y_train)"
   ]
  },
  {
   "cell_type": "code",
   "execution_count": 25,
   "metadata": {},
   "outputs": [
    {
     "name": "stdout",
     "output_type": "stream",
     "text": [
      "Root Mean Squared Error: 13639.217450189537\n",
      "R-squared: 0.9576336649429962\n"
     ]
    }
   ],
   "source": [
    "y_pred = best_rf_model.predict(X_test)\n",
    "mse = mean_squared_error(y_test, y_pred)\n",
    "rmse = np.sqrt(mse)\n",
    "r2 = r2_score(y_test, y_pred)\n",
    "\n",
    "print(f\"Root Mean Squared Error: {rmse}\")\n",
    "print(f\"R-squared: {r2}\")"
   ]
  }
 ],
 "metadata": {
  "kernelspec": {
   "display_name": "base",
   "language": "python",
   "name": "python3"
  },
  "language_info": {
   "codemirror_mode": {
    "name": "ipython",
    "version": 3
   },
   "file_extension": ".py",
   "mimetype": "text/x-python",
   "name": "python",
   "nbconvert_exporter": "python",
   "pygments_lexer": "ipython3",
   "version": "3.8.8"
  }
 },
 "nbformat": 4,
 "nbformat_minor": 2
}
