{
 "cells": [
  {
   "cell_type": "code",
   "execution_count": 1,
   "metadata": {},
   "outputs": [],
   "source": [
    "import pandas as pd\n",
    "import joblib"
   ]
  },
  {
   "cell_type": "code",
   "execution_count": 2,
   "metadata": {},
   "outputs": [],
   "source": [
    "df = joblib.load('my_dataframe.joblib')"
   ]
  },
  {
   "cell_type": "code",
   "execution_count": 3,
   "metadata": {},
   "outputs": [],
   "source": [
    "X = df.drop('SalePrice', axis=1)\n",
    "y = df['SalePrice']"
   ]
  },
  {
   "cell_type": "code",
   "execution_count": 4,
   "metadata": {},
   "outputs": [],
   "source": [
    "# Encoding categorical columns \n",
    "#categorical_columns=df.select_dtypes(include=['object']).columns.tolist()\n",
    "#X=pd.get_dummies(X, columns=categorical_columns)"
   ]
  },
  {
   "cell_type": "code",
   "execution_count": 5,
   "metadata": {},
   "outputs": [],
   "source": [
    "from sklearn.preprocessing import LabelEncoder\n",
    "categorical_columns = X.select_dtypes(include=['object']).columns.tolist()\n",
    "\n",
    "label_encoders = {}\n",
    "\n",
    "# Apply Label Encoding to each categorical column\n",
    "for col in categorical_columns:\n",
    "    le = LabelEncoder()\n",
    "    X[col] = le.fit_transform(X[col])\n",
    "    label_encoders[col] = le"
   ]
  },
  {
   "cell_type": "code",
   "execution_count": 6,
   "metadata": {},
   "outputs": [],
   "source": [
    "from sklearn.model_selection import train_test_split\n",
    "from sklearn.ensemble import GradientBoostingRegressor\n",
    "from sklearn.metrics import mean_squared_error"
   ]
  },
  {
   "cell_type": "code",
   "execution_count": 7,
   "metadata": {},
   "outputs": [],
   "source": [
    "X_train, X_test, y_train, y_test = train_test_split(X, y, test_size=0.2, random_state=42)"
   ]
  },
  {
   "cell_type": "code",
   "execution_count": 29,
   "metadata": {},
   "outputs": [],
   "source": [
    "gb_model = GradientBoostingRegressor(\n",
    "    n_estimators=100,    # Number of trees (weak learners)\n",
    "    learning_rate=0.1,   # Learning rate\n",
    "    max_depth=3,         # Maximum depth of the individual trees\n",
    "    random_state=42\n",
    ")"
   ]
  },
  {
   "cell_type": "code",
   "execution_count": 30,
   "metadata": {},
   "outputs": [
    {
     "data": {
      "text/html": [
       "<style>#sk-container-id-2 {\n",
       "  /* Definition of color scheme common for light and dark mode */\n",
       "  --sklearn-color-text: black;\n",
       "  --sklearn-color-line: gray;\n",
       "  /* Definition of color scheme for unfitted estimators */\n",
       "  --sklearn-color-unfitted-level-0: #fff5e6;\n",
       "  --sklearn-color-unfitted-level-1: #f6e4d2;\n",
       "  --sklearn-color-unfitted-level-2: #ffe0b3;\n",
       "  --sklearn-color-unfitted-level-3: chocolate;\n",
       "  /* Definition of color scheme for fitted estimators */\n",
       "  --sklearn-color-fitted-level-0: #f0f8ff;\n",
       "  --sklearn-color-fitted-level-1: #d4ebff;\n",
       "  --sklearn-color-fitted-level-2: #b3dbfd;\n",
       "  --sklearn-color-fitted-level-3: cornflowerblue;\n",
       "\n",
       "  /* Specific color for light theme */\n",
       "  --sklearn-color-text-on-default-background: var(--sg-text-color, var(--theme-code-foreground, var(--jp-content-font-color1, black)));\n",
       "  --sklearn-color-background: var(--sg-background-color, var(--theme-background, var(--jp-layout-color0, white)));\n",
       "  --sklearn-color-border-box: var(--sg-text-color, var(--theme-code-foreground, var(--jp-content-font-color1, black)));\n",
       "  --sklearn-color-icon: #696969;\n",
       "\n",
       "  @media (prefers-color-scheme: dark) {\n",
       "    /* Redefinition of color scheme for dark theme */\n",
       "    --sklearn-color-text-on-default-background: var(--sg-text-color, var(--theme-code-foreground, var(--jp-content-font-color1, white)));\n",
       "    --sklearn-color-background: var(--sg-background-color, var(--theme-background, var(--jp-layout-color0, #111)));\n",
       "    --sklearn-color-border-box: var(--sg-text-color, var(--theme-code-foreground, var(--jp-content-font-color1, white)));\n",
       "    --sklearn-color-icon: #878787;\n",
       "  }\n",
       "}\n",
       "\n",
       "#sk-container-id-2 {\n",
       "  color: var(--sklearn-color-text);\n",
       "}\n",
       "\n",
       "#sk-container-id-2 pre {\n",
       "  padding: 0;\n",
       "}\n",
       "\n",
       "#sk-container-id-2 input.sk-hidden--visually {\n",
       "  border: 0;\n",
       "  clip: rect(1px 1px 1px 1px);\n",
       "  clip: rect(1px, 1px, 1px, 1px);\n",
       "  height: 1px;\n",
       "  margin: -1px;\n",
       "  overflow: hidden;\n",
       "  padding: 0;\n",
       "  position: absolute;\n",
       "  width: 1px;\n",
       "}\n",
       "\n",
       "#sk-container-id-2 div.sk-dashed-wrapped {\n",
       "  border: 1px dashed var(--sklearn-color-line);\n",
       "  margin: 0 0.4em 0.5em 0.4em;\n",
       "  box-sizing: border-box;\n",
       "  padding-bottom: 0.4em;\n",
       "  background-color: var(--sklearn-color-background);\n",
       "}\n",
       "\n",
       "#sk-container-id-2 div.sk-container {\n",
       "  /* jupyter's `normalize.less` sets `[hidden] { display: none; }`\n",
       "     but bootstrap.min.css set `[hidden] { display: none !important; }`\n",
       "     so we also need the `!important` here to be able to override the\n",
       "     default hidden behavior on the sphinx rendered scikit-learn.org.\n",
       "     See: https://github.com/scikit-learn/scikit-learn/issues/21755 */\n",
       "  display: inline-block !important;\n",
       "  position: relative;\n",
       "}\n",
       "\n",
       "#sk-container-id-2 div.sk-text-repr-fallback {\n",
       "  display: none;\n",
       "}\n",
       "\n",
       "div.sk-parallel-item,\n",
       "div.sk-serial,\n",
       "div.sk-item {\n",
       "  /* draw centered vertical line to link estimators */\n",
       "  background-image: linear-gradient(var(--sklearn-color-text-on-default-background), var(--sklearn-color-text-on-default-background));\n",
       "  background-size: 2px 100%;\n",
       "  background-repeat: no-repeat;\n",
       "  background-position: center center;\n",
       "}\n",
       "\n",
       "/* Parallel-specific style estimator block */\n",
       "\n",
       "#sk-container-id-2 div.sk-parallel-item::after {\n",
       "  content: \"\";\n",
       "  width: 100%;\n",
       "  border-bottom: 2px solid var(--sklearn-color-text-on-default-background);\n",
       "  flex-grow: 1;\n",
       "}\n",
       "\n",
       "#sk-container-id-2 div.sk-parallel {\n",
       "  display: flex;\n",
       "  align-items: stretch;\n",
       "  justify-content: center;\n",
       "  background-color: var(--sklearn-color-background);\n",
       "  position: relative;\n",
       "}\n",
       "\n",
       "#sk-container-id-2 div.sk-parallel-item {\n",
       "  display: flex;\n",
       "  flex-direction: column;\n",
       "}\n",
       "\n",
       "#sk-container-id-2 div.sk-parallel-item:first-child::after {\n",
       "  align-self: flex-end;\n",
       "  width: 50%;\n",
       "}\n",
       "\n",
       "#sk-container-id-2 div.sk-parallel-item:last-child::after {\n",
       "  align-self: flex-start;\n",
       "  width: 50%;\n",
       "}\n",
       "\n",
       "#sk-container-id-2 div.sk-parallel-item:only-child::after {\n",
       "  width: 0;\n",
       "}\n",
       "\n",
       "/* Serial-specific style estimator block */\n",
       "\n",
       "#sk-container-id-2 div.sk-serial {\n",
       "  display: flex;\n",
       "  flex-direction: column;\n",
       "  align-items: center;\n",
       "  background-color: var(--sklearn-color-background);\n",
       "  padding-right: 1em;\n",
       "  padding-left: 1em;\n",
       "}\n",
       "\n",
       "\n",
       "/* Toggleable style: style used for estimator/Pipeline/ColumnTransformer box that is\n",
       "clickable and can be expanded/collapsed.\n",
       "- Pipeline and ColumnTransformer use this feature and define the default style\n",
       "- Estimators will overwrite some part of the style using the `sk-estimator` class\n",
       "*/\n",
       "\n",
       "/* Pipeline and ColumnTransformer style (default) */\n",
       "\n",
       "#sk-container-id-2 div.sk-toggleable {\n",
       "  /* Default theme specific background. It is overwritten whether we have a\n",
       "  specific estimator or a Pipeline/ColumnTransformer */\n",
       "  background-color: var(--sklearn-color-background);\n",
       "}\n",
       "\n",
       "/* Toggleable label */\n",
       "#sk-container-id-2 label.sk-toggleable__label {\n",
       "  cursor: pointer;\n",
       "  display: block;\n",
       "  width: 100%;\n",
       "  margin-bottom: 0;\n",
       "  padding: 0.5em;\n",
       "  box-sizing: border-box;\n",
       "  text-align: center;\n",
       "}\n",
       "\n",
       "#sk-container-id-2 label.sk-toggleable__label-arrow:before {\n",
       "  /* Arrow on the left of the label */\n",
       "  content: \"▸\";\n",
       "  float: left;\n",
       "  margin-right: 0.25em;\n",
       "  color: var(--sklearn-color-icon);\n",
       "}\n",
       "\n",
       "#sk-container-id-2 label.sk-toggleable__label-arrow:hover:before {\n",
       "  color: var(--sklearn-color-text);\n",
       "}\n",
       "\n",
       "/* Toggleable content - dropdown */\n",
       "\n",
       "#sk-container-id-2 div.sk-toggleable__content {\n",
       "  max-height: 0;\n",
       "  max-width: 0;\n",
       "  overflow: hidden;\n",
       "  text-align: left;\n",
       "  /* unfitted */\n",
       "  background-color: var(--sklearn-color-unfitted-level-0);\n",
       "}\n",
       "\n",
       "#sk-container-id-2 div.sk-toggleable__content.fitted {\n",
       "  /* fitted */\n",
       "  background-color: var(--sklearn-color-fitted-level-0);\n",
       "}\n",
       "\n",
       "#sk-container-id-2 div.sk-toggleable__content pre {\n",
       "  margin: 0.2em;\n",
       "  border-radius: 0.25em;\n",
       "  color: var(--sklearn-color-text);\n",
       "  /* unfitted */\n",
       "  background-color: var(--sklearn-color-unfitted-level-0);\n",
       "}\n",
       "\n",
       "#sk-container-id-2 div.sk-toggleable__content.fitted pre {\n",
       "  /* unfitted */\n",
       "  background-color: var(--sklearn-color-fitted-level-0);\n",
       "}\n",
       "\n",
       "#sk-container-id-2 input.sk-toggleable__control:checked~div.sk-toggleable__content {\n",
       "  /* Expand drop-down */\n",
       "  max-height: 200px;\n",
       "  max-width: 100%;\n",
       "  overflow: auto;\n",
       "}\n",
       "\n",
       "#sk-container-id-2 input.sk-toggleable__control:checked~label.sk-toggleable__label-arrow:before {\n",
       "  content: \"▾\";\n",
       "}\n",
       "\n",
       "/* Pipeline/ColumnTransformer-specific style */\n",
       "\n",
       "#sk-container-id-2 div.sk-label input.sk-toggleable__control:checked~label.sk-toggleable__label {\n",
       "  color: var(--sklearn-color-text);\n",
       "  background-color: var(--sklearn-color-unfitted-level-2);\n",
       "}\n",
       "\n",
       "#sk-container-id-2 div.sk-label.fitted input.sk-toggleable__control:checked~label.sk-toggleable__label {\n",
       "  background-color: var(--sklearn-color-fitted-level-2);\n",
       "}\n",
       "\n",
       "/* Estimator-specific style */\n",
       "\n",
       "/* Colorize estimator box */\n",
       "#sk-container-id-2 div.sk-estimator input.sk-toggleable__control:checked~label.sk-toggleable__label {\n",
       "  /* unfitted */\n",
       "  background-color: var(--sklearn-color-unfitted-level-2);\n",
       "}\n",
       "\n",
       "#sk-container-id-2 div.sk-estimator.fitted input.sk-toggleable__control:checked~label.sk-toggleable__label {\n",
       "  /* fitted */\n",
       "  background-color: var(--sklearn-color-fitted-level-2);\n",
       "}\n",
       "\n",
       "#sk-container-id-2 div.sk-label label.sk-toggleable__label,\n",
       "#sk-container-id-2 div.sk-label label {\n",
       "  /* The background is the default theme color */\n",
       "  color: var(--sklearn-color-text-on-default-background);\n",
       "}\n",
       "\n",
       "/* On hover, darken the color of the background */\n",
       "#sk-container-id-2 div.sk-label:hover label.sk-toggleable__label {\n",
       "  color: var(--sklearn-color-text);\n",
       "  background-color: var(--sklearn-color-unfitted-level-2);\n",
       "}\n",
       "\n",
       "/* Label box, darken color on hover, fitted */\n",
       "#sk-container-id-2 div.sk-label.fitted:hover label.sk-toggleable__label.fitted {\n",
       "  color: var(--sklearn-color-text);\n",
       "  background-color: var(--sklearn-color-fitted-level-2);\n",
       "}\n",
       "\n",
       "/* Estimator label */\n",
       "\n",
       "#sk-container-id-2 div.sk-label label {\n",
       "  font-family: monospace;\n",
       "  font-weight: bold;\n",
       "  display: inline-block;\n",
       "  line-height: 1.2em;\n",
       "}\n",
       "\n",
       "#sk-container-id-2 div.sk-label-container {\n",
       "  text-align: center;\n",
       "}\n",
       "\n",
       "/* Estimator-specific */\n",
       "#sk-container-id-2 div.sk-estimator {\n",
       "  font-family: monospace;\n",
       "  border: 1px dotted var(--sklearn-color-border-box);\n",
       "  border-radius: 0.25em;\n",
       "  box-sizing: border-box;\n",
       "  margin-bottom: 0.5em;\n",
       "  /* unfitted */\n",
       "  background-color: var(--sklearn-color-unfitted-level-0);\n",
       "}\n",
       "\n",
       "#sk-container-id-2 div.sk-estimator.fitted {\n",
       "  /* fitted */\n",
       "  background-color: var(--sklearn-color-fitted-level-0);\n",
       "}\n",
       "\n",
       "/* on hover */\n",
       "#sk-container-id-2 div.sk-estimator:hover {\n",
       "  /* unfitted */\n",
       "  background-color: var(--sklearn-color-unfitted-level-2);\n",
       "}\n",
       "\n",
       "#sk-container-id-2 div.sk-estimator.fitted:hover {\n",
       "  /* fitted */\n",
       "  background-color: var(--sklearn-color-fitted-level-2);\n",
       "}\n",
       "\n",
       "/* Specification for estimator info (e.g. \"i\" and \"?\") */\n",
       "\n",
       "/* Common style for \"i\" and \"?\" */\n",
       "\n",
       ".sk-estimator-doc-link,\n",
       "a:link.sk-estimator-doc-link,\n",
       "a:visited.sk-estimator-doc-link {\n",
       "  float: right;\n",
       "  font-size: smaller;\n",
       "  line-height: 1em;\n",
       "  font-family: monospace;\n",
       "  background-color: var(--sklearn-color-background);\n",
       "  border-radius: 1em;\n",
       "  height: 1em;\n",
       "  width: 1em;\n",
       "  text-decoration: none !important;\n",
       "  margin-left: 1ex;\n",
       "  /* unfitted */\n",
       "  border: var(--sklearn-color-unfitted-level-1) 1pt solid;\n",
       "  color: var(--sklearn-color-unfitted-level-1);\n",
       "}\n",
       "\n",
       ".sk-estimator-doc-link.fitted,\n",
       "a:link.sk-estimator-doc-link.fitted,\n",
       "a:visited.sk-estimator-doc-link.fitted {\n",
       "  /* fitted */\n",
       "  border: var(--sklearn-color-fitted-level-1) 1pt solid;\n",
       "  color: var(--sklearn-color-fitted-level-1);\n",
       "}\n",
       "\n",
       "/* On hover */\n",
       "div.sk-estimator:hover .sk-estimator-doc-link:hover,\n",
       ".sk-estimator-doc-link:hover,\n",
       "div.sk-label-container:hover .sk-estimator-doc-link:hover,\n",
       ".sk-estimator-doc-link:hover {\n",
       "  /* unfitted */\n",
       "  background-color: var(--sklearn-color-unfitted-level-3);\n",
       "  color: var(--sklearn-color-background);\n",
       "  text-decoration: none;\n",
       "}\n",
       "\n",
       "div.sk-estimator.fitted:hover .sk-estimator-doc-link.fitted:hover,\n",
       ".sk-estimator-doc-link.fitted:hover,\n",
       "div.sk-label-container:hover .sk-estimator-doc-link.fitted:hover,\n",
       ".sk-estimator-doc-link.fitted:hover {\n",
       "  /* fitted */\n",
       "  background-color: var(--sklearn-color-fitted-level-3);\n",
       "  color: var(--sklearn-color-background);\n",
       "  text-decoration: none;\n",
       "}\n",
       "\n",
       "/* Span, style for the box shown on hovering the info icon */\n",
       ".sk-estimator-doc-link span {\n",
       "  display: none;\n",
       "  z-index: 9999;\n",
       "  position: relative;\n",
       "  font-weight: normal;\n",
       "  right: .2ex;\n",
       "  padding: .5ex;\n",
       "  margin: .5ex;\n",
       "  width: min-content;\n",
       "  min-width: 20ex;\n",
       "  max-width: 50ex;\n",
       "  color: var(--sklearn-color-text);\n",
       "  box-shadow: 2pt 2pt 4pt #999;\n",
       "  /* unfitted */\n",
       "  background: var(--sklearn-color-unfitted-level-0);\n",
       "  border: .5pt solid var(--sklearn-color-unfitted-level-3);\n",
       "}\n",
       "\n",
       ".sk-estimator-doc-link.fitted span {\n",
       "  /* fitted */\n",
       "  background: var(--sklearn-color-fitted-level-0);\n",
       "  border: var(--sklearn-color-fitted-level-3);\n",
       "}\n",
       "\n",
       ".sk-estimator-doc-link:hover span {\n",
       "  display: block;\n",
       "}\n",
       "\n",
       "/* \"?\"-specific style due to the `<a>` HTML tag */\n",
       "\n",
       "#sk-container-id-2 a.estimator_doc_link {\n",
       "  float: right;\n",
       "  font-size: 1rem;\n",
       "  line-height: 1em;\n",
       "  font-family: monospace;\n",
       "  background-color: var(--sklearn-color-background);\n",
       "  border-radius: 1rem;\n",
       "  height: 1rem;\n",
       "  width: 1rem;\n",
       "  text-decoration: none;\n",
       "  /* unfitted */\n",
       "  color: var(--sklearn-color-unfitted-level-1);\n",
       "  border: var(--sklearn-color-unfitted-level-1) 1pt solid;\n",
       "}\n",
       "\n",
       "#sk-container-id-2 a.estimator_doc_link.fitted {\n",
       "  /* fitted */\n",
       "  border: var(--sklearn-color-fitted-level-1) 1pt solid;\n",
       "  color: var(--sklearn-color-fitted-level-1);\n",
       "}\n",
       "\n",
       "/* On hover */\n",
       "#sk-container-id-2 a.estimator_doc_link:hover {\n",
       "  /* unfitted */\n",
       "  background-color: var(--sklearn-color-unfitted-level-3);\n",
       "  color: var(--sklearn-color-background);\n",
       "  text-decoration: none;\n",
       "}\n",
       "\n",
       "#sk-container-id-2 a.estimator_doc_link.fitted:hover {\n",
       "  /* fitted */\n",
       "  background-color: var(--sklearn-color-fitted-level-3);\n",
       "}\n",
       "</style><div id=\"sk-container-id-2\" class=\"sk-top-container\"><div class=\"sk-text-repr-fallback\"><pre>GradientBoostingRegressor(random_state=42)</pre><b>In a Jupyter environment, please rerun this cell to show the HTML representation or trust the notebook. <br />On GitHub, the HTML representation is unable to render, please try loading this page with nbviewer.org.</b></div><div class=\"sk-container\" hidden><div class=\"sk-item\"><div class=\"sk-estimator fitted sk-toggleable\"><input class=\"sk-toggleable__control sk-hidden--visually\" id=\"sk-estimator-id-2\" type=\"checkbox\" checked><label for=\"sk-estimator-id-2\" class=\"sk-toggleable__label fitted sk-toggleable__label-arrow fitted\">&nbsp;&nbsp;GradientBoostingRegressor<a class=\"sk-estimator-doc-link fitted\" rel=\"noreferrer\" target=\"_blank\" href=\"https://scikit-learn.org/1.5/modules/generated/sklearn.ensemble.GradientBoostingRegressor.html\">?<span>Documentation for GradientBoostingRegressor</span></a><span class=\"sk-estimator-doc-link fitted\">i<span>Fitted</span></span></label><div class=\"sk-toggleable__content fitted\"><pre>GradientBoostingRegressor(random_state=42)</pre></div> </div></div></div></div>"
      ],
      "text/plain": [
       "GradientBoostingRegressor(random_state=42)"
      ]
     },
     "execution_count": 30,
     "metadata": {},
     "output_type": "execute_result"
    }
   ],
   "source": [
    "# Train the model\n",
    "gb_model.fit(X_train, y_train)"
   ]
  },
  {
   "cell_type": "code",
   "execution_count": 31,
   "metadata": {},
   "outputs": [],
   "source": [
    "# Make predictions on the test set\n",
    "y_pred = gb_model.predict(X_test)"
   ]
  },
  {
   "cell_type": "code",
   "execution_count": 32,
   "metadata": {},
   "outputs": [
    {
     "name": "stdout",
     "output_type": "stream",
     "text": [
      "RMSE: 20497.32\n"
     ]
    },
    {
     "name": "stderr",
     "output_type": "stream",
     "text": [
      "c:\\Users\\ASESEN20\\Lib\\site-packages\\sklearn\\metrics\\_regression.py:492: FutureWarning: 'squared' is deprecated in version 1.4 and will be removed in 1.6. To calculate the root mean squared error, use the function'root_mean_squared_error'.\n",
      "  warnings.warn(\n"
     ]
    }
   ],
   "source": [
    "# Evaluate the model\n",
    "rmse = mean_squared_error(y_test, y_pred, squared=False)\n",
    "print(f\"RMSE: {rmse:.2f}\")"
   ]
  },
  {
   "cell_type": "code",
   "execution_count": 19,
   "metadata": {},
   "outputs": [
    {
     "data": {
      "text/plain": [
       "0.8992961555352058"
      ]
     },
     "execution_count": 19,
     "metadata": {},
     "output_type": "execute_result"
    }
   ],
   "source": [
    "from sklearn.metrics import r2_score\n",
    "r2_score(y_test, y_pred)"
   ]
  },
  {
   "cell_type": "code",
   "execution_count": 13,
   "metadata": {},
   "outputs": [],
   "source": [
    "from sklearn.model_selection import RandomizedSearchCV"
   ]
  },
  {
   "cell_type": "code",
   "execution_count": 14,
   "metadata": {},
   "outputs": [],
   "source": [
    "from scipy.stats import uniform, randint\n",
    "# Define the parameter distributions\n",
    "param_dist = {\n",
    "    'n_estimators': randint(100, 500),  # Randomly sample from 100 to 500 trees\n",
    "    'learning_rate': uniform(0.01, 0.3),  # Randomly sample learning rates between 0.01 and 0.3\n",
    "    'max_depth': randint(3, 10),  # Randomly sample max_depth between 3 and 10\n",
    "    'min_samples_split': randint(2, 10),  # Randomly sample between 2 and 10\n",
    "    'min_samples_leaf': randint(1, 5),  # Randomly sample between 1 and 5\n",
    "    'subsample': uniform(0.7, 0.3)  # Randomly sample subsample values between 0.7 and 1.0\n",
    "}"
   ]
  },
  {
   "cell_type": "code",
   "execution_count": 15,
   "metadata": {},
   "outputs": [],
   "source": [
    "# Set up the RandomizedSearchCV\n",
    "random_search = RandomizedSearchCV(\n",
    "    estimator=gb_model,\n",
    "    param_distributions=param_dist,\n",
    "    n_iter=50,  # Number of random combinations to try\n",
    "    scoring='neg_mean_squared_error',  # Use MSE for regression\n",
    "    cv=5,  # 5-fold cross-validation\n",
    "    verbose=2,\n",
    "    n_jobs=-1,  # Use all CPU cores\n",
    "    random_state=42\n",
    ")"
   ]
  },
  {
   "cell_type": "code",
   "execution_count": 16,
   "metadata": {},
   "outputs": [
    {
     "name": "stdout",
     "output_type": "stream",
     "text": [
      "Fitting 5 folds for each of 50 candidates, totalling 250 fits\n"
     ]
    },
    {
     "data": {
      "text/plain": [
       "RandomizedSearchCV(cv=5, estimator=GradientBoostingRegressor(random_state=42),\n",
       "                   n_iter=50, n_jobs=-1,\n",
       "                   param_distributions={'learning_rate': <scipy.stats._distn_infrastructure.rv_frozen object at 0x000002624127F910>,\n",
       "                                        'max_depth': <scipy.stats._distn_infrastructure.rv_frozen object at 0x000002624127FD00>,\n",
       "                                        'min_samples_leaf': <scipy.stats._distn_infrastructure.rv_fro...bject at 0x00000262437F9280>,\n",
       "                                        'min_samples_split': <scipy.stats._distn_infrastructure.rv_frozen object at 0x00000262437F9040>,\n",
       "                                        'n_estimators': <scipy.stats._distn_infrastructure.rv_frozen object at 0x0000026242818DF0>,\n",
       "                                        'subsample': <scipy.stats._distn_infrastructure.rv_frozen object at 0x00000262437F94C0>},\n",
       "                   random_state=42, scoring='neg_mean_squared_error',\n",
       "                   verbose=2)"
      ]
     },
     "execution_count": 16,
     "metadata": {},
     "output_type": "execute_result"
    }
   ],
   "source": [
    "# Fit RandomizedSearchCV\n",
    "random_search.fit(X_train, y_train)"
   ]
  },
  {
   "cell_type": "code",
   "execution_count": 17,
   "metadata": {},
   "outputs": [
    {
     "name": "stdout",
     "output_type": "stream",
     "text": [
      "Best parameters from RandomizedSearchCV: {'learning_rate': 0.17837302775431035, 'max_depth': 5, 'min_samples_leaf': 1, 'min_samples_split': 8, 'n_estimators': 230, 'subsample': 0.9282355145850691}\n"
     ]
    }
   ],
   "source": [
    "# Get the best parameters from the random search\n",
    "best_params_random = random_search.best_params_\n",
    "print(f\"Best parameters from RandomizedSearchCV: {best_params_random}\")"
   ]
  },
  {
   "cell_type": "code",
   "execution_count": 18,
   "metadata": {},
   "outputs": [
    {
     "name": "stdout",
     "output_type": "stream",
     "text": [
      "Mean Squared Error (RandomizedSearchCV): 26721.018977240106\n"
     ]
    }
   ],
   "source": [
    "# Predict using the best model found by RandomizedSearchCV\n",
    "best_model_random = random_search.best_estimator_\n",
    "y_pred_random = best_model_random.predict(X_test)\n",
    "\n",
    "# Evaluate the performance of the RandomizedSearchCV model\n",
    "rmse_random = mean_squared_error(y_test, y_pred_random,squared=False)\n",
    "print(f'Mean Squared Error (RandomizedSearchCV): {rmse_random}')"
   ]
  },
  {
   "cell_type": "code",
   "execution_count": 19,
   "metadata": {},
   "outputs": [],
   "source": [
    "from sklearn.model_selection import GridSearchCV\n",
    "# Define a more focused parameter grid based on the results of RandomizedSearchCV\n",
    "param_grid = {\n",
    "    'n_estimators': [best_params_random['n_estimators'] - 50, best_params_random['n_estimators'], best_params_random['n_estimators'] + 50],\n",
    "    'learning_rate': [best_params_random['learning_rate'] * 0.8, best_params_random['learning_rate'], best_params_random['learning_rate'] * 1.2],\n",
    "    'max_depth': [best_params_random['max_depth'] - 1, best_params_random['max_depth'], best_params_random['max_depth'] + 1],\n",
    "    'min_samples_split': [best_params_random['min_samples_split'] - 1, best_params_random['min_samples_split'], best_params_random['min_samples_split'] + 1],\n",
    "    'min_samples_leaf': [best_params_random['min_samples_leaf'] - 1, best_params_random['min_samples_leaf'], best_params_random['min_samples_leaf'] + 1],\n",
    "    'subsample': [best_params_random['subsample'] * 0.9, best_params_random['subsample'], best_params_random['subsample'] * 1.1]\n",
    "}"
   ]
  },
  {
   "cell_type": "code",
   "execution_count": 20,
   "metadata": {},
   "outputs": [],
   "source": [
    "# Set up the GridSearchCV\n",
    "grid_search = GridSearchCV(\n",
    "    estimator=gb_model,\n",
    "    param_grid=param_grid,\n",
    "    scoring='neg_mean_squared_error',\n",
    "    cv=5,  # 5-fold cross-validation\n",
    "    verbose=2,\n",
    "    n_jobs=-1  # Use all available CPU cores\n",
    ")"
   ]
  },
  {
   "cell_type": "code",
   "execution_count": 21,
   "metadata": {},
   "outputs": [
    {
     "name": "stdout",
     "output_type": "stream",
     "text": [
      "Fitting 5 folds for each of 729 candidates, totalling 3645 fits\n"
     ]
    },
    {
     "name": "stderr",
     "output_type": "stream",
     "text": [
      "c:\\Users\\ASESEN20\\Anaconda3\\lib\\site-packages\\sklearn\\model_selection\\_search.py:918: UserWarning: One or more of the test scores are non-finite: [            nan             nan             nan             nan\n",
      "             nan             nan             nan             nan\n",
      "             nan             nan             nan             nan\n",
      "             nan             nan             nan             nan\n",
      "             nan             nan             nan             nan\n",
      "             nan             nan             nan             nan\n",
      "             nan             nan             nan -6.55373768e+08\n",
      " -7.39943730e+08             nan -6.56414340e+08 -7.38959407e+08\n",
      "             nan -6.57075823e+08 -7.37141647e+08             nan\n",
      " -7.01870310e+08 -6.98618627e+08             nan -7.01210903e+08\n",
      " -6.96034412e+08             nan -7.01012000e+08 -6.97322862e+08\n",
      "             nan -7.39847230e+08 -7.14821061e+08             nan\n",
      " -7.39254082e+08 -7.15766938e+08             nan -7.40972436e+08\n",
      " -7.15537409e+08             nan -6.72126952e+08 -7.71831962e+08\n",
      "             nan -6.74362429e+08 -7.73660607e+08             nan\n",
      " -6.74188452e+08 -7.71993508e+08             nan -6.65061991e+08\n",
      " -8.34306885e+08             nan -6.65450426e+08 -8.32622069e+08\n",
      "             nan -6.64773623e+08 -8.31745421e+08             nan\n",
      " -6.78916669e+08 -7.94081080e+08             nan -6.77915783e+08\n",
      " -7.94445266e+08             nan -6.79948825e+08 -7.96535960e+08\n",
      "             nan             nan             nan             nan\n",
      "             nan             nan             nan             nan\n",
      "             nan             nan             nan             nan\n",
      "             nan             nan             nan             nan\n",
      "             nan             nan             nan             nan\n",
      "             nan             nan             nan             nan\n",
      "             nan             nan             nan             nan\n",
      " -7.42536881e+08 -7.31432124e+08             nan -7.42556472e+08\n",
      " -7.30317361e+08             nan -7.42552023e+08 -7.31115745e+08\n",
      "             nan -7.50035352e+08 -7.58297047e+08             nan\n",
      " -7.50552651e+08 -7.58625580e+08             nan -7.50240438e+08\n",
      " -7.58815162e+08             nan -7.16825129e+08 -7.87498020e+08\n",
      "             nan -7.16158882e+08 -7.87572244e+08             nan\n",
      " -7.16656766e+08 -7.87506741e+08             nan -6.94585958e+08\n",
      " -7.83855526e+08             nan -6.94523022e+08 -7.84181482e+08\n",
      "             nan -6.94069145e+08 -7.83944853e+08             nan\n",
      " -7.50825322e+08 -8.47635557e+08             nan -7.51206574e+08\n",
      " -8.48291353e+08             nan -7.51191781e+08 -8.48321494e+08\n",
      "             nan -7.13463277e+08 -8.02496971e+08             nan\n",
      " -7.12799780e+08 -8.04020460e+08             nan -7.12573344e+08\n",
      " -8.04015465e+08             nan             nan             nan\n",
      "             nan             nan             nan             nan\n",
      "             nan             nan             nan             nan\n",
      "             nan             nan             nan             nan\n",
      "             nan             nan             nan             nan\n",
      "             nan             nan             nan             nan\n",
      "             nan             nan             nan             nan\n",
      "             nan -7.80865809e+08 -7.51754174e+08             nan\n",
      " -7.80690490e+08 -7.52015284e+08             nan -7.80749399e+08\n",
      " -7.52087293e+08             nan -7.71520813e+08 -7.00551731e+08\n",
      "             nan -7.71436636e+08 -7.00006775e+08             nan\n",
      " -7.71513698e+08 -6.99996285e+08             nan -7.98627484e+08\n",
      " -6.88936846e+08             nan -7.98951945e+08 -6.88913478e+08\n",
      "             nan -7.98680129e+08 -6.88652110e+08             nan\n",
      " -7.59148568e+08 -8.36013060e+08             nan -7.59364910e+08\n",
      " -8.35953549e+08             nan -7.59454846e+08 -8.35935159e+08\n",
      "             nan -7.14440145e+08 -8.55042113e+08             nan\n",
      " -7.14437142e+08 -8.55136402e+08             nan -7.14522111e+08\n",
      " -8.55113607e+08             nan -7.59013428e+08 -8.21325392e+08\n",
      "             nan -7.58931559e+08 -8.20820999e+08             nan\n",
      " -7.59087250e+08 -8.20806009e+08             nan             nan\n",
      "             nan             nan             nan             nan\n",
      "             nan             nan             nan             nan\n",
      "             nan             nan             nan             nan\n",
      "             nan             nan             nan             nan\n",
      "             nan             nan             nan             nan\n",
      "             nan             nan             nan             nan\n",
      "             nan             nan -7.48298634e+08 -7.75358040e+08\n",
      "             nan -7.47128391e+08 -7.75741326e+08             nan\n",
      " -7.46519534e+08 -7.76893892e+08             nan -7.02497368e+08\n",
      " -7.33555772e+08             nan -7.03720816e+08 -7.36848113e+08\n",
      "             nan -7.05362430e+08 -7.34692843e+08             nan\n",
      " -7.63802084e+08 -7.20532211e+08             nan -7.61040235e+08\n",
      " -7.21095048e+08             nan -7.60574754e+08 -7.21025166e+08\n",
      "             nan -7.11356482e+08 -7.82971860e+08             nan\n",
      " -7.10303594e+08 -7.82645767e+08             nan -7.11031175e+08\n",
      " -7.82844906e+08             nan -6.77835961e+08 -7.77456352e+08\n",
      "             nan -6.77939946e+08 -7.74500794e+08             nan\n",
      " -6.80712140e+08 -7.73869118e+08             nan -6.83493553e+08\n",
      " -7.67876139e+08             nan -6.83464607e+08 -7.68816942e+08\n",
      "             nan -6.83855464e+08 -7.69350499e+08             nan\n",
      "             nan             nan             nan             nan\n",
      "             nan             nan             nan             nan\n",
      "             nan             nan             nan             nan\n",
      "             nan             nan             nan             nan\n",
      "             nan             nan             nan             nan\n",
      "             nan             nan             nan             nan\n",
      "             nan             nan             nan -7.13964048e+08\n",
      " -8.08803866e+08             nan -7.14209962e+08 -8.08687567e+08\n",
      "             nan -7.14618959e+08 -8.08797613e+08             nan\n",
      " -7.21644997e+08 -6.75362552e+08             nan -7.21620822e+08\n",
      " -6.74954379e+08             nan -7.21371499e+08 -6.75010479e+08\n",
      "             nan -7.09118113e+08 -7.01560083e+08             nan\n",
      " -7.08836918e+08 -7.01024841e+08             nan -7.08575964e+08\n",
      " -7.00940903e+08             nan -7.19600867e+08 -7.93895119e+08\n",
      "             nan -7.19785401e+08 -7.93546630e+08             nan\n",
      " -7.19829178e+08 -7.94036964e+08             nan -7.27011587e+08\n",
      " -8.07182280e+08             nan -7.26874666e+08 -8.07185267e+08\n",
      "             nan -7.26733453e+08 -8.06916314e+08             nan\n",
      " -6.95387680e+08 -7.70765484e+08             nan -6.96416865e+08\n",
      " -7.71408239e+08             nan -6.96119869e+08 -7.71346260e+08\n",
      "             nan             nan             nan             nan\n",
      "             nan             nan             nan             nan\n",
      "             nan             nan             nan             nan\n",
      "             nan             nan             nan             nan\n",
      "             nan             nan             nan             nan\n",
      "             nan             nan             nan             nan\n",
      "             nan             nan             nan             nan\n",
      " -8.26116670e+08 -7.64024888e+08             nan -8.26409149e+08\n",
      " -7.64241911e+08             nan -8.26488562e+08 -7.64308064e+08\n",
      "             nan -8.71563776e+08 -6.99643613e+08             nan\n",
      " -8.71444444e+08 -6.99738857e+08             nan -8.71546333e+08\n",
      " -6.99697121e+08             nan -8.41788485e+08 -7.27415207e+08\n",
      "             nan -8.41894739e+08 -7.27242039e+08             nan\n",
      " -8.41753567e+08 -7.27218059e+08             nan -7.63957220e+08\n",
      " -8.49769091e+08             nan -7.63960262e+08 -8.49700440e+08\n",
      "             nan -7.64026481e+08 -8.49490886e+08             nan\n",
      " -8.14136175e+08 -9.02180053e+08             nan -8.14125769e+08\n",
      " -9.02236274e+08             nan -8.14350207e+08 -9.02277975e+08\n",
      "             nan -8.24356072e+08 -8.70107911e+08             nan\n",
      " -8.24318408e+08 -8.70097563e+08             nan -8.24333305e+08\n",
      " -8.70158706e+08             nan             nan             nan\n",
      "             nan             nan             nan             nan\n",
      "             nan             nan             nan             nan\n",
      "             nan             nan             nan             nan\n",
      "             nan             nan             nan             nan\n",
      "             nan             nan             nan             nan\n",
      "             nan             nan             nan             nan\n",
      "             nan -7.36436809e+08 -6.90446291e+08             nan\n",
      " -7.37171172e+08 -6.91503269e+08             nan -7.36056636e+08\n",
      " -6.90675895e+08             nan -8.04173259e+08 -7.33101718e+08\n",
      "             nan -8.04584707e+08 -7.31194760e+08             nan\n",
      " -8.05634838e+08 -7.31846401e+08             nan -8.15611920e+08\n",
      " -7.24960968e+08             nan -8.15959569e+08 -7.24693762e+08\n",
      "             nan -8.17155551e+08 -7.23657422e+08             nan\n",
      " -7.39553808e+08 -7.76765920e+08             nan -7.40519075e+08\n",
      " -7.78408630e+08             nan -7.41116455e+08 -7.79559700e+08\n",
      "             nan -7.46936416e+08 -7.97614675e+08             nan\n",
      " -7.45673771e+08 -7.97937571e+08             nan -7.46259301e+08\n",
      " -7.98144266e+08             nan -7.26787284e+08 -8.14328684e+08\n",
      "             nan -7.28020541e+08 -8.15964238e+08             nan\n",
      " -7.27141078e+08 -8.17601824e+08             nan             nan\n",
      "             nan             nan             nan             nan\n",
      "             nan             nan             nan             nan\n",
      "             nan             nan             nan             nan\n",
      "             nan             nan             nan             nan\n",
      "             nan             nan             nan             nan\n",
      "             nan             nan             nan             nan\n",
      "             nan             nan -8.29443275e+08 -8.07663364e+08\n",
      "             nan -8.29788156e+08 -8.07293280e+08             nan\n",
      " -8.29934194e+08 -8.07744353e+08             nan -8.22246751e+08\n",
      " -8.23181390e+08             nan -8.22216940e+08 -8.23575515e+08\n",
      "             nan -8.22464547e+08 -8.23655604e+08             nan\n",
      " -7.74693686e+08 -6.88780963e+08             nan -7.74173414e+08\n",
      " -6.89801486e+08             nan -7.74200575e+08 -6.89914835e+08\n",
      "             nan -7.08984276e+08 -8.53682387e+08             nan\n",
      " -7.09297711e+08 -8.54304926e+08             nan -7.09795762e+08\n",
      " -8.54389502e+08             nan -7.33394784e+08 -8.62292338e+08\n",
      "             nan -7.33485480e+08 -8.61784286e+08             nan\n",
      " -7.33529346e+08 -8.62015326e+08             nan -7.20834906e+08\n",
      " -8.21678830e+08             nan -7.20536246e+08 -8.22117873e+08\n",
      "             nan -7.20510131e+08 -8.22052449e+08             nan\n",
      "             nan             nan             nan             nan\n",
      "             nan             nan             nan             nan\n",
      "             nan             nan             nan             nan\n",
      "             nan             nan             nan             nan\n",
      "             nan             nan             nan             nan\n",
      "             nan             nan             nan             nan\n",
      "             nan             nan             nan -8.88016808e+08\n",
      " -7.56570813e+08             nan -8.87820778e+08 -7.56574899e+08\n",
      "             nan -8.87824516e+08 -7.56556021e+08             nan\n",
      " -7.70799657e+08 -7.75820173e+08             nan -7.70543883e+08\n",
      " -7.75840016e+08             nan -7.70565757e+08 -7.75792600e+08\n",
      "             nan -9.36508377e+08 -7.74605028e+08             nan\n",
      " -9.36380176e+08 -7.74649147e+08             nan -9.36424796e+08\n",
      " -7.74715833e+08             nan -8.20075138e+08 -8.63674980e+08\n",
      "             nan -8.20083854e+08 -8.63780749e+08             nan\n",
      " -8.20098126e+08 -8.63800488e+08             nan -7.68314304e+08\n",
      " -8.83809263e+08             nan -7.68325639e+08 -8.83720392e+08\n",
      "             nan -7.68289502e+08 -8.83752700e+08             nan\n",
      " -7.80169115e+08 -8.86398095e+08             nan -7.80592331e+08\n",
      " -8.86413687e+08             nan -7.80679168e+08 -8.86417904e+08\n",
      "             nan]\n",
      "  warnings.warn(\n"
     ]
    },
    {
     "data": {
      "text/plain": [
       "GridSearchCV(cv=5, estimator=GradientBoostingRegressor(random_state=42),\n",
       "             n_jobs=-1,\n",
       "             param_grid={'learning_rate': [0.14269842220344828,\n",
       "                                           0.17837302775431035,\n",
       "                                           0.21404763330517243],\n",
       "                         'max_depth': [4, 5, 6], 'min_samples_leaf': [0, 1, 2],\n",
       "                         'min_samples_split': [7, 8, 9],\n",
       "                         'n_estimators': [180, 230, 280],\n",
       "                         'subsample': [0.8354119631265623, 0.9282355145850691,\n",
       "                                       1.021059066043576]},\n",
       "             scoring='neg_mean_squared_error', verbose=2)"
      ]
     },
     "execution_count": 21,
     "metadata": {},
     "output_type": "execute_result"
    }
   ],
   "source": [
    "# Fit GridSearchCV\n",
    "grid_search.fit(X_train, y_train)"
   ]
  },
  {
   "cell_type": "code",
   "execution_count": 22,
   "metadata": {},
   "outputs": [
    {
     "name": "stdout",
     "output_type": "stream",
     "text": [
      "Best parameters from GridSearchCV: {'learning_rate': 0.14269842220344828, 'max_depth': 4, 'min_samples_leaf': 1, 'min_samples_split': 7, 'n_estimators': 180, 'subsample': 0.8354119631265623}\n"
     ]
    }
   ],
   "source": [
    "# Get the best parameters from the grid search\n",
    "best_params_grid = grid_search.best_params_\n",
    "print(f\"Best parameters from GridSearchCV: {best_params_grid}\")\n",
    "\n"
   ]
  },
  {
   "cell_type": "code",
   "execution_count": 23,
   "metadata": {},
   "outputs": [
    {
     "name": "stdout",
     "output_type": "stream",
     "text": [
      "Mean Squared Error (GridSearchCV): 26837.975894342708\n"
     ]
    }
   ],
   "source": [
    "# Predict using the best model found by GridSearchCV\n",
    "best_model_grid = grid_search.best_estimator_\n",
    "y_pred_grid = best_model_grid.predict(X_test)\n",
    "\n",
    "# Evaluate the performance of the GridSearchCV model\n",
    "mse_grid = mean_squared_error(y_test, y_pred_grid, squared=False)\n",
    "print(f'Root Mean Squared Error (GridSearchCV): {mse_grid}')"
   ]
  },
  {
   "cell_type": "markdown",
   "metadata": {},
   "source": [
    "# XGBoost"
   ]
  },
  {
   "cell_type": "code",
   "execution_count": 1,
   "metadata": {},
   "outputs": [],
   "source": [
    "import xgboost as xgb"
   ]
  },
  {
   "cell_type": "code",
   "execution_count": 13,
   "metadata": {},
   "outputs": [
    {
     "name": "stdout",
     "output_type": "stream",
     "text": [
      "XGBoost RMSE: 26650.804059091068\n"
     ]
    }
   ],
   "source": [
    "# Initialize and fit the model\n",
    "xg_model = xgb.XGBRegressor(objective='reg:squarederror', eval_metric='rmse')\n",
    "xg_model.fit(X_train, y_train)\n",
    "\n",
    "# Predict and evaluate\n",
    "y_pred = xg_model.predict(X_test)\n",
    "rmse_xgb = mean_squared_error(y_test, y_pred,squared=False)\n",
    "print(f'XGBoost RMSE: {rmse_xgb}')"
   ]
  },
  {
   "cell_type": "markdown",
   "metadata": {},
   "source": [
    "# LigthGBM"
   ]
  },
  {
   "cell_type": "code",
   "execution_count": 14,
   "metadata": {},
   "outputs": [],
   "source": [
    "import lightgbm as lgb"
   ]
  },
  {
   "cell_type": "code",
   "execution_count": 15,
   "metadata": {},
   "outputs": [
    {
     "name": "stdout",
     "output_type": "stream",
     "text": [
      "[LightGBM] [Info] Auto-choosing row-wise multi-threading, the overhead of testing was 0.001163 seconds.\n",
      "You can set `force_row_wise=true` to remove the overhead.\n",
      "And if memory is not enough, you can set `force_col_wise=true`.\n",
      "[LightGBM] [Info] Total Bins 2540\n",
      "[LightGBM] [Info] Number of data points in the train set: 1153, number of used features: 58\n",
      "[LightGBM] [Info] Start training from score 179212.566349\n",
      "LightGBM RMSE: 24775.5764942313\n"
     ]
    }
   ],
   "source": [
    "# Initialize and fit the model\n",
    "lgb_model = lgb.LGBMRegressor(objective='regression', metric='rmse')\n",
    "lgb_model.fit(X_train, y_train)\n",
    "\n",
    "# Predict and evaluate\n",
    "y_pred = lgb_model.predict(X_test)\n",
    "rmse_lgb = mean_squared_error(y_test, y_pred,squared=False)\n",
    "print(f'LightGBM RMSE: {rmse_lgb}')"
   ]
  },
  {
   "cell_type": "markdown",
   "metadata": {},
   "source": [
    "# CatBoost"
   ]
  },
  {
   "cell_type": "code",
   "execution_count": 8,
   "metadata": {},
   "outputs": [],
   "source": [
    "from catboost import CatBoostRegressor"
   ]
  },
  {
   "cell_type": "code",
   "execution_count": 9,
   "metadata": {},
   "outputs": [
    {
     "name": "stdout",
     "output_type": "stream",
     "text": [
      "CatBoost RMSE: 19906.694552317414\n"
     ]
    },
    {
     "name": "stderr",
     "output_type": "stream",
     "text": [
      "c:\\Users\\ASESEN20\\Lib\\site-packages\\sklearn\\metrics\\_regression.py:492: FutureWarning: 'squared' is deprecated in version 1.4 and will be removed in 1.6. To calculate the root mean squared error, use the function'root_mean_squared_error'.\n",
      "  warnings.warn(\n"
     ]
    }
   ],
   "source": [
    "# Initialize and fit the model\n",
    "cat_model = CatBoostRegressor(learning_rate=0.1, depth=6, iterations=1000, eval_metric='RMSE', verbose=0)\n",
    "cat_model.fit(X_train, y_train)\n",
    "\n",
    "# Predict and evaluate\n",
    "y_pred = cat_model.predict(X_test)\n",
    "rmse_cat = mean_squared_error(y_test, y_pred,squared=False)\n",
    "print(f'CatBoost RMSE: {rmse_cat}')"
   ]
  },
  {
   "cell_type": "code",
   "execution_count": 10,
   "metadata": {},
   "outputs": [
    {
     "name": "stdout",
     "output_type": "stream",
     "text": [
      "Cross-validated RMSE: 17582.09\n",
      "Relative RMSE: 10.33%\n"
     ]
    }
   ],
   "source": [
    "from sklearn.model_selection import cross_val_score, KFold\n",
    "import numpy as np\n",
    "# 5-fold cross-validation\n",
    "kf = KFold(n_splits=5, shuffle=True, random_state=42)\n",
    "cv_scores = cross_val_score(cat_model, X, y, cv=kf, scoring='neg_root_mean_squared_error')\n",
    "\n",
    "# Convert negative RMSE scores to positive\n",
    "rmse_scores = -cv_scores\n",
    "\n",
    "# Calculate mean RMSE\n",
    "mean_rmse = np.mean(rmse_scores)\n",
    "print(f'Cross-validated RMSE: {mean_rmse:.2f}')\n",
    "\n",
    "# Relative RMSE as % of the mean SalePrice\n",
    "relative_rmse = (mean_rmse / np.mean(y)) * 100\n",
    "print(f'Relative RMSE: {relative_rmse:.2f}%')"
   ]
  },
  {
   "cell_type": "code",
   "execution_count": 11,
   "metadata": {},
   "outputs": [
    {
     "data": {
      "text/plain": [
       "0.8992961555352058"
      ]
     },
     "execution_count": 11,
     "metadata": {},
     "output_type": "execute_result"
    }
   ],
   "source": [
    "from sklearn.metrics import r2_score\n",
    "r2_score(y_test, y_pred)"
   ]
  },
  {
   "cell_type": "code",
   "execution_count": 12,
   "metadata": {},
   "outputs": [],
   "source": [
    "from sklearn.model_selection import RandomizedSearchCV, GridSearchCV"
   ]
  },
  {
   "cell_type": "code",
   "execution_count": 13,
   "metadata": {},
   "outputs": [],
   "source": [
    "# Define the hyperparameter grid for Random Search\n",
    "random_grid = {\n",
    "    'depth': np.arange(4, 10),\n",
    "    'learning_rate': np.logspace(-3, 0, 10),  # Exponentially spaced values from 0.001 to 1\n",
    "    'iterations': np.arange(500, 2000, 100),\n",
    "    'l2_leaf_reg': np.arange(1, 10)\n",
    "}"
   ]
  },
  {
   "cell_type": "code",
   "execution_count": 14,
   "metadata": {},
   "outputs": [],
   "source": [
    "# Setup RandomizedSearchCV\n",
    "random_search = RandomizedSearchCV(estimator=cat_model, param_distributions=random_grid, \n",
    "                                   n_iter=50, scoring='neg_mean_squared_error', \n",
    "                                   cv=5, verbose=2, random_state=42, n_jobs=-1)"
   ]
  },
  {
   "cell_type": "code",
   "execution_count": 15,
   "metadata": {},
   "outputs": [
    {
     "name": "stdout",
     "output_type": "stream",
     "text": [
      "Fitting 5 folds for each of 50 candidates, totalling 250 fits\n",
      "Best parameters from RandomizedSearchCV: {'learning_rate': 0.021544346900318832, 'l2_leaf_reg': 2, 'iterations': 1800, 'depth': 4}\n"
     ]
    }
   ],
   "source": [
    "# Fit the random search model\n",
    "random_search.fit(X_train, y_train)\n",
    "\n",
    "# Output the best parameters from RandomizedSearchCV\n",
    "print(\"Best parameters from RandomizedSearchCV:\", random_search.best_params_)"
   ]
  },
  {
   "cell_type": "code",
   "execution_count": 16,
   "metadata": {},
   "outputs": [],
   "source": [
    "# Define a smaller grid based on RandomizedSearchCV results\n",
    "best_params = random_search.best_params_\n",
    "\n",
    "param_grid = {\n",
    "    'depth': [best_params['depth'] - 1, best_params['depth'], best_params['depth'] + 1],\n",
    "    'learning_rate': [best_params['learning_rate'] * 0.8, best_params['learning_rate'], best_params['learning_rate'] * 1.2],\n",
    "    'iterations': [best_params['iterations'] - 100, best_params['iterations'], best_params['iterations'] + 100],\n",
    "    'l2_leaf_reg': [best_params['l2_leaf_reg'] - 1, best_params['l2_leaf_reg'], best_params['l2_leaf_reg'] + 1]\n",
    "}"
   ]
  },
  {
   "cell_type": "code",
   "execution_count": 17,
   "metadata": {},
   "outputs": [],
   "source": [
    "# Setup GridSearchCV\n",
    "grid_search = GridSearchCV(estimator=cat_model, param_grid=param_grid, \n",
    "                           scoring='neg_mean_squared_error', cv=5, verbose=2, n_jobs=-1)\n"
   ]
  },
  {
   "cell_type": "code",
   "execution_count": 19,
   "metadata": {},
   "outputs": [
    {
     "name": "stdout",
     "output_type": "stream",
     "text": [
      "Fitting 5 folds for each of 81 candidates, totalling 405 fits\n",
      "Best parameters from GridSearchCV: {'depth': 5, 'iterations': 1700, 'l2_leaf_reg': 1, 'learning_rate': 0.017235477520255067}\n"
     ]
    }
   ],
   "source": [
    "# Fit the GridSearchCV\n",
    "grid_search.fit(X_train, y_train)\n",
    "\n",
    "# Output the best parameters from GridSearchCV\n",
    "print(\"Best parameters from GridSearchCV:\", grid_search.best_params_)"
   ]
  },
  {
   "cell_type": "code",
   "execution_count": 20,
   "metadata": {},
   "outputs": [
    {
     "name": "stdout",
     "output_type": "stream",
     "text": [
      "RMSE: 19087.981269342836\n"
     ]
    }
   ],
   "source": [
    "# Define CatBoost model with the best hyperparameters\n",
    "best_catboost_model = CatBoostRegressor(\n",
    "    depth=5,\n",
    "    iterations=1700,\n",
    "    l2_leaf_reg=1,\n",
    "    learning_rate=0.017235477520255067,\n",
    "    verbose=0\n",
    ")\n",
    "\n",
    "# Fit the model to the full training set\n",
    "best_catboost_model.fit(X_train, y_train)\n",
    "\n",
    "# Evaluate on the test set\n",
    "y_pred = best_catboost_model.predict(X_test)\n",
    "\n",
    "# Optionally, calculate evaluation metrics (e.g., RMSE)\n",
    "from sklearn.metrics import mean_squared_error\n",
    "rmse = np.sqrt(mean_squared_error(y_test, y_pred))\n",
    "print(f\"RMSE: {rmse}\")\n"
   ]
  }
 ],
 "metadata": {
  "kernelspec": {
   "display_name": "base",
   "language": "python",
   "name": "python3"
  },
  "language_info": {
   "codemirror_mode": {
    "name": "ipython",
    "version": 3
   },
   "file_extension": ".py",
   "mimetype": "text/x-python",
   "name": "python",
   "nbconvert_exporter": "python",
   "pygments_lexer": "ipython3",
   "version": "3.12.6"
  }
 },
 "nbformat": 4,
 "nbformat_minor": 2
}
