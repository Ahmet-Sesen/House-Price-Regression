{
 "cells": [
  {
   "cell_type": "code",
   "execution_count": 1,
   "metadata": {},
   "outputs": [
    {
     "ename": "ModuleNotFoundError",
     "evalue": "No module named 'pandas'",
     "output_type": "error",
     "traceback": [
      "\u001b[1;31m---------------------------------------------------------------------------\u001b[0m",
      "\u001b[1;31mModuleNotFoundError\u001b[0m                       Traceback (most recent call last)",
      "Cell \u001b[1;32mIn[1], line 1\u001b[0m\n\u001b[1;32m----> 1\u001b[0m \u001b[38;5;28;01mimport\u001b[39;00m \u001b[38;5;21;01mpandas\u001b[39;00m \u001b[38;5;28;01mas\u001b[39;00m \u001b[38;5;21;01mpd\u001b[39;00m\n",
      "\u001b[1;31mModuleNotFoundError\u001b[0m: No module named 'pandas'"
     ]
    }
   ],
   "source": [
    "import pandas as pd"
   ]
  },
  {
   "cell_type": "code",
   "execution_count": 16,
   "metadata": {},
   "outputs": [],
   "source": [
    "import joblib\n",
    "\n",
    "# Load the DataFrame from the Joblib file\n",
    "data = joblib.load('my_dataframe.joblib')\n"
   ]
  },
  {
   "cell_type": "code",
   "execution_count": 17,
   "metadata": {},
   "outputs": [],
   "source": [
    "X = data.drop(columns=['SalePrice'])\n",
    "y = data['SalePrice']"
   ]
  },
  {
   "cell_type": "code",
   "execution_count": 22,
   "metadata": {},
   "outputs": [],
   "source": [
    "# Encoding categorical columns \n",
    "categorical_columns=data.select_dtypes(include=['object']).columns.tolist()\n",
    "X=data.drop(columns=categorical_columns)\n",
    "b_c=['Neighborhood', 'KitchenQual', 'BsmtQual', 'GarageType', 'CentralAir', 'Exterior2nd', 'HouseStyle', 'Exterior1st', 'BsmtFinType1', 'BsmtExposure']\n",
    "best_categorical=data[b_c]\n",
    "X = pd.concat([X, best_categorical], axis=1)\n",
    "X=pd.get_dummies(X, columns=b_c)"
   ]
  },
  {
   "cell_type": "code",
   "execution_count": 24,
   "metadata": {},
   "outputs": [],
   "source": [
    "from sklearn.model_selection import train_test_split\n",
    "X_train, X_test, y_train, y_test = train_test_split(X, y, test_size = 0.25, random_state = 0)"
   ]
  },
  {
   "cell_type": "code",
   "execution_count": 25,
   "metadata": {},
   "outputs": [],
   "source": [
    "from sklearn.preprocessing import StandardScaler\n",
    "scaler = StandardScaler()      \n",
    "X_train = scaler.fit_transform(X_train)\n",
    "X_test = scaler.transform(X_test)"
   ]
  },
  {
   "cell_type": "code",
   "execution_count": 26,
   "metadata": {},
   "outputs": [
    {
     "data": {
      "text/plain": [
       "LinearRegression()"
      ]
     },
     "execution_count": 26,
     "metadata": {},
     "output_type": "execute_result"
    }
   ],
   "source": [
    "from sklearn.linear_model import LinearRegression\n",
    "regressor = LinearRegression()\n",
    "regressor.fit(X_train,y_train)"
   ]
  },
  {
   "cell_type": "code",
   "execution_count": 27,
   "metadata": {},
   "outputs": [],
   "source": [
    "y_pred = regressor.predict(X_test)\n",
    "y_pred2=regressor.predict(X_train)"
   ]
  },
  {
   "cell_type": "code",
   "execution_count": 28,
   "metadata": {},
   "outputs": [
    {
     "data": {
      "text/plain": [
       "0.999999999870844"
      ]
     },
     "execution_count": 28,
     "metadata": {},
     "output_type": "execute_result"
    }
   ],
   "source": [
    "from sklearn.metrics import r2_score\n",
    "r2_score(y_test, y_pred)"
   ]
  },
  {
   "cell_type": "code",
   "execution_count": 29,
   "metadata": {},
   "outputs": [
    {
     "data": {
      "text/plain": [
       "1.0"
      ]
     },
     "execution_count": 29,
     "metadata": {},
     "output_type": "execute_result"
    }
   ],
   "source": [
    "r2_score(y_train, y_pred2)"
   ]
  },
  {
   "cell_type": "code",
   "execution_count": 30,
   "metadata": {},
   "outputs": [
    {
     "name": "stdout",
     "output_type": "stream",
     "text": [
      "Root Mean Squared Error (RMSE): 0.75\n"
     ]
    }
   ],
   "source": [
    "from sklearn.metrics import mean_squared_error\n",
    "# Calculate RMSE\n",
    "rmse = mean_squared_error(y_test, y_pred, squared=False)\n",
    "print(f\"Root Mean Squared Error (RMSE): {rmse:.2f}\")\n"
   ]
  },
  {
   "cell_type": "code",
   "execution_count": 31,
   "metadata": {},
   "outputs": [
    {
     "name": "stdout",
     "output_type": "stream",
     "text": [
      "Root Mean Squared Error (RMSE): 0.75\n"
     ]
    }
   ],
   "source": [
    "rmse2 = mean_squared_error(y_train, y_pred2, squared=False)\n",
    "print(f\"Root Mean Squared Error (RMSE): {rmse:.2f}\")"
   ]
  },
  {
   "cell_type": "code",
   "execution_count": 32,
   "metadata": {},
   "outputs": [
    {
     "name": "stdout",
     "output_type": "stream",
     "text": [
      "Relative RMSE (%): 0.0004246688516257452\n"
     ]
    }
   ],
   "source": [
    "mean_saleprice = data['SalePrice'].mean()\n",
    "relative_rmse = (rmse / mean_saleprice) * 100\n",
    "print(\"Relative RMSE (%):\", relative_rmse)"
   ]
  },
  {
   "cell_type": "code",
   "execution_count": 33,
   "metadata": {},
   "outputs": [
    {
     "name": "stdout",
     "output_type": "stream",
     "text": [
      "Relative RMSE (%): 5.1838563120457416e-14\n"
     ]
    }
   ],
   "source": [
    "relative_rmse2 = (rmse2 / mean_saleprice) * 100\n",
    "print(\"Relative RMSE (%):\", relative_rmse2)"
   ]
  },
  {
   "cell_type": "code",
   "execution_count": null,
   "metadata": {},
   "outputs": [],
   "source": [
    "# Binary Encoding (for binary features)\n",
    "data['CentralAir'] = data['CentralAir'].map({'Y': 1, 'N': 0})"
   ]
  },
  {
   "cell_type": "code",
   "execution_count": null,
   "metadata": {},
   "outputs": [],
   "source": [
    "ord_c=['ExterQual','ExterCond', 'BsmtQual','BsmtCond', 'HeatingQC', 'KitchenQual', 'FireplaceQu', 'GarageQual','GarageCond']"
   ]
  },
  {
   "cell_type": "code",
   "execution_count": null,
   "metadata": {},
   "outputs": [],
   "source": [
    "# Define the quality mappings\n",
    "quality_mapping = {'Ex': 5, 'Gd': 4, 'TA': 3, 'Fa': 2, 'Po': 1,'NA' : 0}\n",
    "\n",
    "# Map the quality-related columns\n",
    "data['ExterQual'] = data['ExterQual'].map(quality_mapping)\n",
    "data['ExterCond'] = data['ExterCond'].map(quality_mapping)\n",
    "data['BsmtQual'] = data['BsmtQual'].map(quality_mapping)\n",
    "data['BsmtCond'] = data['BsmtCond'].map(quality_mapping)\n",
    "data['HeatingQC'] = data['HeatingQC'].map(quality_mapping)\n",
    "data['KitchenQual'] = data['KitchenQual'].map(quality_mapping)\n",
    "data['FireplaceQu'] = data['FireplaceQu'].map(quality_mapping)\n",
    "data['GarageQual'] = data['GarageQual'].map(quality_mapping)\n",
    "data['GarageCond'] = data['GarageCond'].map(quality_mapping)"
   ]
  },
  {
   "cell_type": "code",
   "execution_count": null,
   "metadata": {},
   "outputs": [],
   "source": [
    "def combine_rare_categories(df, column, threshold=15):\n",
    "    # Get category counts\n",
    "    category_counts = df[column].value_counts()\n",
    "    \n",
    "    # Define rare categories\n",
    "    rare_categories = category_counts[category_counts < threshold].index\n",
    "    \n",
    "    # Replace rare categories with 'Other'\n",
    "    df[column] = df[column].apply(lambda x: 'Other' if x in rare_categories else x)\n",
    "    return df\n",
    "\n",
    "columns_to_adjust = data.select_dtypes(include=['object']).columns.tolist()\n",
    "columns_to_adjust.remove(\"Neighborhood\")\n",
    "\n",
    "for col in columns_to_adjust:\n",
    "    data = combine_rare_categories(data, col)"
   ]
  },
  {
   "cell_type": "code",
   "execution_count": null,
   "metadata": {},
   "outputs": [],
   "source": [
    "def target_based_encoding(df, target_col, cat_cols):\n",
    "    \"\"\"\n",
    "    Apply target-based encoding to multiple categorical columns based on the mean of the target variable.\n",
    "\n",
    "    Parameters:\n",
    "    df (pd.DataFrame): The DataFrame containing the data.\n",
    "    target_col (str): The name of the target column (e.g., 'SalePrice').\n",
    "    cat_cols (list): A list of categorical columns to encode.\n",
    "\n",
    "    Returns:\n",
    "    pd.DataFrame: DataFrame with the target-encoded columns.\n",
    "    \"\"\"\n",
    "    df_encoded = df.copy()\n",
    "    for col in cat_cols:\n",
    "        # Step 1: Calculate the mean target value for each category in the column\n",
    "        category_means = df.groupby(col)[target_col].mean()\n",
    "\n",
    "        # Step 2: Rank categories by their mean target value and assign encoding\n",
    "        category_ranks = category_means.rank().astype(int) - 1  # Rank starts from 0\n",
    "        category_map = category_ranks.sort_values().astype(int).to_dict()\n",
    "\n",
    "        # Step 3: Map the categories to their respective ranks (encoded values)\n",
    "        df_encoded[col] = df[col].map(category_map)\n",
    "\n",
    "    return df_encoded"
   ]
  },
  {
   "cell_type": "code",
   "execution_count": null,
   "metadata": {},
   "outputs": [],
   "source": [
    "encoded_data = target_based_encoding(data, target_col='SalePrice', cat_cols=categorical_columns)"
   ]
  }
 ],
 "metadata": {
  "kernelspec": {
   "display_name": "base",
   "language": "python",
   "name": "python3"
  },
  "language_info": {
   "codemirror_mode": {
    "name": "ipython",
    "version": 3
   },
   "file_extension": ".py",
   "mimetype": "text/x-python",
   "name": "python",
   "nbconvert_exporter": "python",
   "pygments_lexer": "ipython3",
   "version": "3.12.6"
  }
 },
 "nbformat": 4,
 "nbformat_minor": 2
}
