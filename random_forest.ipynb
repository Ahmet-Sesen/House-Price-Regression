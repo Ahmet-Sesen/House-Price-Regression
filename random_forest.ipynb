{
 "cells": [
  {
   "cell_type": "code",
   "execution_count": 179,
   "metadata": {},
   "outputs": [],
   "source": [
    "import pandas as pd\n",
    "import numpy as np"
   ]
  },
  {
   "cell_type": "code",
   "execution_count": 180,
   "metadata": {},
   "outputs": [],
   "source": [
    "import joblib\n",
    "\n",
    "# Load the DataFrame from the Joblib file\n",
    "data = joblib.load('my_dataframe.joblib')\n"
   ]
  },
  {
   "cell_type": "code",
   "execution_count": 181,
   "metadata": {},
   "outputs": [],
   "source": [
    "X = data.drop(columns=['SalePrice'])\n",
    "y = data['SalePrice']"
   ]
  },
  {
   "cell_type": "code",
   "execution_count": 182,
   "metadata": {},
   "outputs": [],
   "source": [
    "# Encoding categorical columns \n",
    "#categorical_columns=data.select_dtypes(include=['object']).columns.tolist()\n",
    "#X=pd.get_dummies(X, columns=categorical_columns)"
   ]
  },
  {
   "cell_type": "code",
   "execution_count": 183,
   "metadata": {},
   "outputs": [],
   "source": [
    "from sklearn.preprocessing import LabelEncoder\n",
    "\n",
    "# Assuming X is your DataFrame\n",
    "# Find categorical columns\n",
    "categorical_columns = X.select_dtypes(include=['object']).columns.tolist()\n",
    "\n",
    "# Initialize a LabelEncoder\n",
    "label_encoders = {}\n",
    "\n",
    "# Apply Label Encoding to each categorical column\n",
    "for col in categorical_columns:\n",
    "    le = LabelEncoder()\n",
    "    X[col] = le.fit_transform(X[col])\n",
    "    label_encoders[col] = le"
   ]
  },
  {
   "cell_type": "code",
   "execution_count": 184,
   "metadata": {},
   "outputs": [],
   "source": [
    "from sklearn.model_selection import train_test_split\n",
    "X_train, X_test, y_train, y_test = train_test_split(X, y, test_size = 0.25, random_state = 42)"
   ]
  },
  {
   "cell_type": "code",
   "execution_count": 185,
   "metadata": {},
   "outputs": [
    {
     "data": {
      "text/plain": [
       "RandomForestRegressor(n_estimators=50, random_state=42)"
      ]
     },
     "execution_count": 185,
     "metadata": {},
     "output_type": "execute_result"
    }
   ],
   "source": [
    "from sklearn.ensemble import RandomForestRegressor\n",
    "model = RandomForestRegressor(n_estimators = 50, random_state = 42)\n",
    "model.fit(X_train, y_train)"
   ]
  },
  {
   "cell_type": "code",
   "execution_count": 186,
   "metadata": {},
   "outputs": [],
   "source": [
    "y_pred = model.predict(X_test)"
   ]
  },
  {
   "cell_type": "code",
   "execution_count": 187,
   "metadata": {},
   "outputs": [
    {
     "data": {
      "text/plain": [
       "0.9110606338626234"
      ]
     },
     "execution_count": 187,
     "metadata": {},
     "output_type": "execute_result"
    }
   ],
   "source": [
    "from sklearn.metrics import r2_score\n",
    "r2_score(y_test, y_pred)"
   ]
  },
  {
   "cell_type": "code",
   "execution_count": 188,
   "metadata": {},
   "outputs": [
    {
     "name": "stdout",
     "output_type": "stream",
     "text": [
      "Root Mean Squared Error (RMSE): 20441.36825123633\n"
     ]
    }
   ],
   "source": [
    "from sklearn.metrics import mean_squared_error\n",
    "# Calculate RMSE\n",
    "rmse = mean_squared_error(y_test, y_pred, squared=False)\n",
    "print(\"Root Mean Squared Error (RMSE):\", rmse)"
   ]
  },
  {
   "cell_type": "code",
   "execution_count": 189,
   "metadata": {},
   "outputs": [
    {
     "name": "stdout",
     "output_type": "stream",
     "text": [
      "Relative RMSE (%): 11.527204817828874\n"
     ]
    }
   ],
   "source": [
    "mean_saleprice = data['SalePrice'].mean()\n",
    "relative_rmse = (rmse / mean_saleprice) * 100\n",
    "print(\"Relative RMSE (%):\", relative_rmse)"
   ]
  },
  {
   "cell_type": "code",
   "execution_count": 190,
   "metadata": {},
   "outputs": [
    {
     "name": "stdout",
     "output_type": "stream",
     "text": [
      "[('OverallQual', 0.5955918015418379), ('GrLivArea', 0.10306461798605387), ('Neighborhood', 0.03869450335392112), ('TotalBsmtSF', 0.03174148591232656), ('GarageCars', 0.026589769192080278), ('BsmtFinSF1', 0.02450261882572635), ('GarageArea', 0.021878648225106184), ('1stFlrSF', 0.019738206748977406), ('LotArea', 0.014839293794333576), ('BsmtQual', 0.010531415234638521), ('YearBuilt', 0.009470127024004321), ('YearRemodAdd', 0.008504343542424806), ('GarageType', 0.007906215259954113), ('OverallCond', 0.005688394239819482), ('LotFrontage', 0.0053799734914900576), ('OpenPorchSF', 0.005253653971644209), ('Fireplaces', 0.004619963512182163), ('BsmtUnfSF', 0.0045768349365411945), ('LandContour', 0.004363180301009729), ('WoodDeckSF', 0.004030363886197135), ('MoSold', 0.003936440412085286), ('2ndFlrSF', 0.0039228277826284024), ('KitchenQual', 0.003360054547380838), ('MSSubClass', 0.003143477773517986), ('Exterior1st', 0.0030560588707552487), ('MasVnrArea', 0.002983299020455788), ('TotRmsAbvGrd', 0.0027146155184203276), ('GarageFinish', 0.0023123114359959694), ('CentralAir', 0.0022959692138717082), ('BedroomAbvGr', 0.002171469471800886), ('BsmtExposure', 0.002169313378838019), ('ExterQual', 0.0020352955292776355), ('BsmtFinType1', 0.001912973648684465), ('YrSold', 0.0017268189235622158), ('Exterior2nd', 0.0015528779214648853), ('SaleCondition', 0.001390649431947204), ('BsmtFullBath', 0.001347829905371826), ('HeatingQC', 0.001115579716460962), ('FireplaceQu', 0.001031972825938436), ('RoofStyle', 0.0010091779796557367), ('MasVnrType', 0.0009200686634763004), ('MSZoning', 0.0008870478274192106), ('HouseStyle', 0.0008780433616046667), ('HalfBath', 0.0008687697272418989), ('LotConfig', 0.0008104271487427646), ('Foundation', 0.0006906134465208223), ('BsmtFinType2', 0.0006901451330532074), ('LotShape', 0.0006829698629272105), ('LandSlope', 0.0005800498255536815), ('FullBath', 0.0004449712856328565), ('GarageQual', 0.00039246942944470966)]\n"
     ]
    }
   ],
   "source": [
    "importances = model.feature_importances_\n",
    "\n",
    "indices = np.argsort(importances)[::-1]\n",
    "sorted_features = [(X.columns[i], importances[i]) for i in indices]\n",
    "print(sorted_features)"
   ]
  },
  {
   "cell_type": "code",
   "execution_count": 191,
   "metadata": {},
   "outputs": [
    {
     "name": "stdout",
     "output_type": "stream",
     "text": [
      "['OverallQual', 'GrLivArea', 'Neighborhood', 'TotalBsmtSF', 'GarageCars', 'BsmtFinSF1', 'GarageArea', '1stFlrSF', 'LotArea', 'BsmtQual', 'YearBuilt', 'YearRemodAdd', 'GarageType', 'OverallCond', 'LotFrontage', 'OpenPorchSF', 'Fireplaces', 'BsmtUnfSF', 'LandContour', 'WoodDeckSF', 'MoSold', '2ndFlrSF', 'KitchenQual', 'MSSubClass', 'Exterior1st', 'MasVnrArea', 'TotRmsAbvGrd', 'GarageFinish', 'CentralAir', 'BedroomAbvGr']\n"
     ]
    }
   ],
   "source": [
    "top_features = sorted_features[0:30]\n",
    "\n",
    "top_feature_names = [feature[0] for feature in top_features]\n",
    "print(top_feature_names)"
   ]
  },
  {
   "cell_type": "code",
   "execution_count": 192,
   "metadata": {},
   "outputs": [],
   "source": [
    "X_imprt=X[top_feature_names]"
   ]
  },
  {
   "cell_type": "code",
   "execution_count": 193,
   "metadata": {},
   "outputs": [],
   "source": [
    "X_train, X_test, y_train, y_test = train_test_split(X_imprt, y, test_size = 0.25, random_state = 0)"
   ]
  },
  {
   "cell_type": "markdown",
   "metadata": {},
   "source": [
    "### Hyper parameer tuning for random forest"
   ]
  },
  {
   "cell_type": "code",
   "execution_count": 194,
   "metadata": {},
   "outputs": [
    {
     "data": {
      "text/plain": [
       "' from sklearn.model_selection import GridSearchCV\\n\\nparam_grid = {\\n    \\'n_estimators\\': [10, 20, 40,80,100],\\n    \\'max_depth\\': [None, 10, 20, 30],\\n    \\'min_samples_split\\': [2, 5, 10],\\n    \\'min_samples_leaf\\': [1, 2, 4],\\n    \\'bootstrap\\': [True, False]\\n}\\n\\nrf = RandomForestRegressor(random_state=0)\\ngrid_search = GridSearchCV(estimator=rf, param_grid=param_grid, cv=5, n_jobs=-1, scoring=\\'neg_root_mean_squared_error\\')\\ngrid_search.fit(X_train, y_train)\\n\\nprint(\"Best parameters found: \", grid_search.best_params_)\\nprint(\"Best RMSE from Grid Search: \", -grid_search.best_score_)\\n\\n'"
      ]
     },
     "execution_count": 194,
     "metadata": {},
     "output_type": "execute_result"
    }
   ],
   "source": [
    "\"\"\" from sklearn.model_selection import GridSearchCV\n",
    "\n",
    "param_grid = {\n",
    "    'n_estimators': [10, 20, 40,80,100],\n",
    "    'max_depth': [None, 10, 20, 30],\n",
    "    'min_samples_split': [2, 5, 10],\n",
    "    'min_samples_leaf': [1, 2, 4],\n",
    "    'bootstrap': [True, False]\n",
    "}\n",
    "\n",
    "rf = RandomForestRegressor(random_state=0)\n",
    "grid_search = GridSearchCV(estimator=rf, param_grid=param_grid, cv=5, n_jobs=-1, scoring='neg_root_mean_squared_error')\n",
    "grid_search.fit(X_train, y_train)\n",
    "\n",
    "print(\"Best parameters found: \", grid_search.best_params_)\n",
    "print(\"Best RMSE from Grid Search: \", -grid_search.best_score_)\n",
    "\n",
    "\"\"\""
   ]
  },
  {
   "cell_type": "code",
   "execution_count": 195,
   "metadata": {},
   "outputs": [
    {
     "data": {
      "text/plain": [
       "RandomForestRegressor(max_depth=20, random_state=42)"
      ]
     },
     "execution_count": 195,
     "metadata": {},
     "output_type": "execute_result"
    }
   ],
   "source": [
    "#  new model with the best parameters\n",
    "best_rf_model = RandomForestRegressor(\n",
    "    bootstrap=True,\n",
    "    max_depth=20,\n",
    "    min_samples_leaf=1,\n",
    "    min_samples_split=2,\n",
    "    n_estimators=100,\n",
    "    random_state=42\n",
    ")\n",
    "\n",
    "# Fit the model to the training data\n",
    "best_rf_model.fit(X_train, y_train)"
   ]
  }
 ],
 "metadata": {
  "kernelspec": {
   "display_name": "base",
   "language": "python",
   "name": "python3"
  },
  "language_info": {
   "codemirror_mode": {
    "name": "ipython",
    "version": 3
   },
   "file_extension": ".py",
   "mimetype": "text/x-python",
   "name": "python",
   "nbconvert_exporter": "python",
   "pygments_lexer": "ipython3",
   "version": "3.8.8"
  }
 },
 "nbformat": 4,
 "nbformat_minor": 2
}
